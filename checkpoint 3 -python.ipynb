{
 "cells": [
  {
   "cell_type": "code",
   "execution_count": 1,
   "id": "526cad92",
   "metadata": {},
   "outputs": [
    {
     "name": "stdout",
     "output_type": "stream",
     "text": [
      "x=1, y=2, z=3\n"
     ]
    }
   ],
   "source": [
    "class Point3D:\n",
    "    def __init__(self, x, y, z):\n",
    "        self.x = x\n",
    "        self.y = y\n",
    "        self.z = z\n",
    "my_point = Point3D(1,2,3)\n",
    "print(\"x={}, y={}, z={}\".format(my_point.x, my_point.y, my_point.z))"
   ]
  },
  {
   "cell_type": "code",
   "execution_count": 3,
   "id": "dd0f7615",
   "metadata": {},
   "outputs": [
    {
     "name": "stdout",
     "output_type": "stream",
     "text": [
      "The perimetre is 14 and the area is 12\n"
     ]
    }
   ],
   "source": [
    "class Rectangle:\n",
    "    def __init__(self, length, width):\n",
    "        self.length = length\n",
    "        self.width = width\n",
    "  \n",
    "    def perimeter(self):\n",
    "        return (self.length + self.width)*2\n",
    "\n",
    "    def area(self):\n",
    "        return self.length * self.width\n",
    "\n",
    "my_rectangle = Rectangle(4, 3)\n",
    "print(\"The perimetre is {} and the area is {}\".format(my_rectangle.perimeter(), my_rectangle.area()))\n"
   ]
  },
  {
   "cell_type": "code",
   "execution_count": 4,
   "id": "df4db6e5",
   "metadata": {},
   "outputs": [
    {
     "name": "stdout",
     "output_type": "stream",
     "text": [
      "78.53981633974483\n",
      "15.707963267948966\n",
      "the point belongs to the circle\n",
      "the point isn't inside the circle\n"
     ]
    }
   ],
   "source": [
    "from math import pi\n",
    "\n",
    "class Point:\n",
    "    def __init__(self, x, y):\n",
    "        self.x = x\n",
    "        self.y = y\n",
    "\n",
    "class Circle(Point):\n",
    "    def __init__(self, x, y, r):\n",
    "        super().__init__(x, y)\n",
    "        self.O = self.x, self.y\n",
    "        self.r = r\n",
    "    def area(self):\n",
    "        x = pi * self.r**2\n",
    "        return x\n",
    "    def perimetre(self):\n",
    "        z = pi * self.r\n",
    "        return z\n",
    "    def isInside(self, x, y):\n",
    "        if (x - self.x)**2 + (y - self.y)**2 <= self.r**2:\n",
    "          print(\"the point belongs to the circle\")\n",
    "        else:\n",
    "          print(\"the point isn't inside the circle\")\n",
    "\n",
    "\n",
    "circle1 = Circle(0, 5, 5)\n",
    "point1 = Point(0, 2)\n",
    "point2 = Point(63, 9)\n",
    "print(circle1.area())\n",
    "print(circle1.perimetre())\n",
    "circle1.isInside(point1.x, point1.y)\n",
    "circle1.isInside(point2.x, point2.y)"
   ]
  },
  {
   "cell_type": "code",
   "execution_count": 5,
   "id": "a1222db6",
   "metadata": {},
   "outputs": [
    {
     "name": "stdout",
     "output_type": "stream",
     "text": [
      "200\n",
      "600\n",
      "550\n"
     ]
    }
   ],
   "source": [
    "class bank:\n",
    "    def __init__(self, balance):\n",
    "        self.balance = balance\n",
    "    def deposit(self, depositAmount):\n",
    "        self.balance += depositAmount\n",
    "    def withdraw(self, withdrawAmount):\n",
    "        self.balance -= withdrawAmount\n",
    "\n",
    "myAccount = bank(200)\n",
    "print(myAccount.balance)\n",
    "myAccount.deposit(400)\n",
    "print(myAccount.balance)\n",
    "myAccount.withdraw(50)\n",
    "print(myAccount.balance)"
   ]
  },
  {
   "cell_type": "code",
   "execution_count": null,
   "id": "c62daeec",
   "metadata": {},
   "outputs": [],
   "source": []
  }
 ],
 "metadata": {
  "kernelspec": {
   "display_name": "Python 3",
   "language": "python",
   "name": "python3"
  },
  "language_info": {
   "codemirror_mode": {
    "name": "ipython",
    "version": 3
   },
   "file_extension": ".py",
   "mimetype": "text/x-python",
   "name": "python",
   "nbconvert_exporter": "python",
   "pygments_lexer": "ipython3",
   "version": "3.8.8"
  }
 },
 "nbformat": 4,
 "nbformat_minor": 5
}
